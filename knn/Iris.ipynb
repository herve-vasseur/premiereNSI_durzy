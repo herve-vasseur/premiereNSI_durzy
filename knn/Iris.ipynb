{
 "cells": [
  {
   "cell_type": "markdown",
   "metadata": {},
   "source": [
    "# Iris : présentation de la situation"
   ]
  },
  {
   "cell_type": "markdown",
   "metadata": {},
   "source": [
    "Le jeu de données auquel nous allons nous intéresser est un jeu de données célèbre. Il a été créé et utilisé par Ronald Aylmer Fisher en 1936 (biologiste et statisticien) et concerne 3 espèces d'iris : setosa, virginica et versicolor. \n",
    "\n",
    "| Ronald Aylmer Fisher | Iris setosa | Iris virginica | Iris versicolor |\n",
    "|:--------------------:|:-----------:|:--------------:|:---------------:|\n",
    "| <img src='./images/portrait2.png'>  | <img src='./images/iris_setosa.jpg'>  | <img src='./images/iris_virginica.jpg'> | <img src='./images/iris_virginica.jpg'>  |\n",
    "\n",
    "Ce jeu de données est composé de 50 individus pour chacune des trois espèces (setosa, versicolor, virginica) soit 150 individus en tout.  \n",
    "\n",
    "\n",
    "Pour chacun de ces individus on dispose des champs :\n",
    "```\n",
    "- id              : numéro d'échantillon (identifiant)  \n",
    "\n",
    "- longueur_sepale : longueur des sépales  \n",
    "\n",
    "- largeur_sepale  : largeur des sépales  \n",
    "\n",
    "- longueur_petale : longueur des pétales  \n",
    "\n",
    "- largeur_petale  : largeur des pétales  \n",
    "\n",
    "- espece          : 'Iris-setosa', 'Irid_virginica' ou 'Iris-versicolor'\n",
    "```\n",
    "\n",
    "La question que se posait M. Fisher est, vous l'avez sans doute devinée :\n",
    "\n",
    "<div class = \"alert alert-danger\">\n",
    "\n",
    "\"Puis-je, à partir des longueurs et largeurs des sépales et pétales, prédire l'espèce d'un iris ?\"\n",
    "    \n",
    "</div>\n",
    "\n",
    "On va donc chercher, à partir des quatre descripteurs `longueur_sepale, largeur_sepale, longueur_petale` et `largeur_petale`, à effectuer une prédiction de l'étiquette `espece`.\n",
    "\n",
    "# Import de la table de données\n",
    "\n",
    "Après exécution de la cellule de code suivante, nous disposerons grâce au module `utilitaires_iris` d'une table `table_iris` contenant les 150 enregistrements sous forme de dictionnaires,"
   ]
  },
  {
   "cell_type": "code",
   "execution_count": null,
   "metadata": {},
   "outputs": [],
   "source": [
    "import csv\n",
    "\n",
    "def charger_fichier_entete(nom_fic):\n",
    "    \"\"\" Permet de lire un fichier CSV en utilisant la ligne d'entêtes\n",
    "        Retourne une liste de dictionnaires.\n",
    "    \"\"\"\n",
    "    lignes = []\n",
    "    with open(nom_fic, \"r\", newline =\"\", encoding =\"utf-8\") as csvfile:\n",
    "        lecteur = csv.DictReader(csvfile, delimiter =\",\")\n",
    "        for enreg in lecteur :\n",
    "            lignes.append(dict(enreg))\n",
    "            for cle, valeur in lignes[-1].items():\n",
    "                try:\n",
    "                    lignes[-1][cle] = int(valeur)\n",
    "                except:\n",
    "                    try:\n",
    "                        lignes[-1][cle] = float(valeur)\n",
    "                    except:\n",
    "                        pass\n",
    "    return lignes\n",
    "\n",
    "table_iris = charger_fichier_entete( './datas/iris.csv' )"
   ]
  },
  {
   "cell_type": "markdown",
   "metadata": {},
   "source": [
    "On peut désormais accéder aux 150 enregistrements de `table_iris` :"
   ]
  },
  {
   "cell_type": "code",
   "execution_count": null,
   "metadata": {},
   "outputs": [],
   "source": [
    "table_iris[0]"
   ]
  },
  {
   "cell_type": "code",
   "execution_count": null,
   "metadata": {},
   "outputs": [],
   "source": [
    "table_iris[149]"
   ]
  },
  {
   "cell_type": "markdown",
   "metadata": {},
   "source": [
    "# Les 3 espèces d'iris sont-elles \"séparées\" les unes des autres ?\n",
    "\n",
    "Nous avons eu l'intuition dans les exercices de cours (voir exercice 2) d'une condition \"visuelle\" pour que la méthode des k plus proches voisins fonctionne bien. Cette condition était qu'il est préférable que les individus ayant des étiquettes différentes soient situés dans des \"zones\" bien séparées.  \n",
    "\n",
    "\n",
    "Nous allons rapidement visualiser ce qui se passe toujours grâce au module `utilitaires_iris`. Ce module nous permet d' afficher des projections 2D des données en choisissant deux descripteurs parmi les quatre (setosa en rouge, versicolor en vert et virginica en bleu) :"
   ]
  },
  {
   "cell_type": "code",
   "execution_count": null,
   "metadata": {},
   "outputs": [],
   "source": [
    "import matplotlib.pyplot as plt\n",
    "\n",
    "def extraire_2_col(descripteur1, descripteur2, table):\n",
    "    ''' Retourne trois couples de listes : se, ve, vi\n",
    "        #setosa, versicolor, virginica\n",
    "        descripteur1 et descripteur2 sont les noms des colonnes au choix parmi\n",
    "        longueur_sepale, largeur_sepale, longueur_petale, largeur_petale    \n",
    "    '''\n",
    "    se, ve, vi = ([], []), ([], []), ([], [])\n",
    "    for fleur in table:\n",
    "        if fleur['espece']=='Iris-setosa':\n",
    "            se[0].append(fleur[descripteur1])\n",
    "            se[1].append(fleur[descripteur2])\n",
    "        elif fleur['espece']=='Iris-versicolor':\n",
    "            ve[0].append(fleur[descripteur1])\n",
    "            ve[1].append(fleur[descripteur2])\n",
    "        else:\n",
    "            vi[0].append(fleur[descripteur1])\n",
    "            vi[1].append(fleur[descripteur2])\n",
    "    return se, ve, vi\n",
    "\n",
    "def afficher_2_col(descripteur1, descripteur2, table):\n",
    "    ''' affiche un graphique 2D avec\n",
    "        en abscisse descripteur1\n",
    "        en ordonnée descripteur2\n",
    "    '''\n",
    "    se, ve, vi = extraire_2_col(descripteur1, descripteur2, table)\n",
    "    fig = plt.figure(figsize = (16, 16))\n",
    "    ax = fig.add_subplot(111)\n",
    "    ax.plot(se[0], se[1], linestyle = ' ', marker = 'o', color = \"#ff0000\")\n",
    "    ax.plot(ve[0], ve[1], linestyle = ' ', marker = 'o', color = \"#00ff00\")\n",
    "    ax.plot(vi[0], vi[1], linestyle = ' ', marker = 'o', color = \"#0000ff\")\n",
    "    \n",
    "    plt.gca().set_xlabel(descripteur1, size = 18)\n",
    "    plt.gca().set_ylabel(descripteur2, size = 18)\n",
    "    plt.show()\n",
    "    print(\"setosa : rouge, versicolor : vert, virginica : bleu\")\n",
    "\n",
    "afficher_2_col(\"longueur_sepale\", \"longueur_petale\", table_iris)"
   ]
  },
  {
   "cell_type": "markdown",
   "metadata": {},
   "source": [
    "Ou bien afficher des projections 3D de ces données en choisissant trois descripteurs parmi quatre :"
   ]
  },
  {
   "cell_type": "code",
   "execution_count": null,
   "metadata": {},
   "outputs": [],
   "source": [
    "def extraire_3_col(descripteur1, descripteur2, descripteur3, table):\n",
    "    ''' Retourne trois triplets de listes : se, ve, vi\n",
    "        #setosa, versicolor, virginica\n",
    "        descripteur1, descripteur2, descripteur3 sont les noms des colonnes au choix\n",
    "        parmi longueur_sepale, largeur_sepale, longueur_petale, largeur_petale     \n",
    "    '''\n",
    "    se, ve, vi = ([], [], []), ([], [], []), ([], [], [])\n",
    "    for fleur in table:\n",
    "        if fleur['espece']=='Iris-setosa':\n",
    "            se[0].append(fleur[descripteur1])\n",
    "            se[1].append(fleur[descripteur2])\n",
    "            se[2].append(fleur[descripteur3])\n",
    "        elif fleur['espece']=='Iris-versicolor':\n",
    "            ve[0].append(fleur[descripteur1])\n",
    "            ve[1].append(fleur[descripteur2])\n",
    "            ve[2].append(fleur[descripteur3])\n",
    "        else:\n",
    "            vi[0].append(fleur[descripteur1])\n",
    "            vi[1].append(fleur[descripteur2])\n",
    "            vi[2].append(fleur[descripteur3])    \n",
    "    return se, ve, vi\n",
    "\n",
    "def afficher_3_col(descripteur1, descripteur2, descripteur3, table):\n",
    "    ''' affiche un graphique 2D avec\n",
    "        en abscisse descripteur1\n",
    "        en ordonnée descripteur2\n",
    "        en cote descripteur3\n",
    "    '''\n",
    "    se, ve, vi = extraire_3_col(descripteur1, descripteur2, descripteur3, table)    \n",
    "    fig = plt.figure(figsize = (16, 16))\n",
    "    ax = fig.add_subplot(111, projection='3d')\n",
    "    ax.scatter(se[0], se[1], se[2], marker = 'o', color = \"#ff0000\")\n",
    "    ax.scatter(ve[0], ve[1], ve[2], marker = 'o', color = \"#00ff00\")\n",
    "    ax.scatter(vi[0], vi[1], vi[2], marker = 'o', color = \"#0000ff\")\n",
    "    ax.set_xlabel(descripteur1, size = 18)\n",
    "    ax.set_ylabel(descripteur2, size = 18)\n",
    "    ax.set_zlabel(descripteur3, size = 18)\n",
    "    plt.show()\n",
    "    print(\"setosa : rouge, versicolor : vert, virginica : bleu\")\n",
    "\n",
    "afficher_3_col(\"largeur_sepale\", \"largeur_petale\", \"longueur_sepale\", table_iris)"
   ]
  },
  {
   "cell_type": "markdown",
   "metadata": {},
   "source": [
    "<div class = \"alert alert-info\">\n",
    "\n",
    "**Question :**\n",
    "    \n",
    "En modifiant les descripteurs utilisés dans les représentations graphiques ci-dessus, indiquer si les trois nuages de points classés par espèce sont bien séparés les uns des autres.   \n",
    "    \n",
    "    \n",
    "En déduire si l'algorithme des k plus proches voisins peut bien fonctionner ou pas.\n"
   ]
  },
  {
   "cell_type": "markdown",
   "metadata": {},
   "source": [
    "# Implémentation de l'algorithme des k plus proches voisins\n",
    "\n",
    "On rappelle que la formule de la distance dans le plan (en 2D) utilise les deux coordonnées $(x;y)$, dans l'espace (en 3D) utilise les trois coordonnées $(x;y;z)$ et en 4D les quatre coordonnées $(x;y;z;t)$.  \n",
    "\n",
    "Le cas de la 4D nous est nécessaire ici puisque nous avons quatre descripteurs. Ce qui donne finalement pour deux points d'un espace 4D :\n",
    "\n",
    "$$dist(A, B) = \\sqrt{(x_B-x_A)^2 + (y_B-y_A)^2 + (z_B-z_A)^2 + (t_A-t_B)^2}$$\n",
    "\n",
    "<div class = \"alert alert-info\">\n",
    "\n",
    "**Question :**\n",
    "\n",
    "Programmer ci-dessous le code d'une fonction `calculer_distance` qui :  \n",
    "\n",
    "- prend en paramètre deux dictionnaires `iris_a` et `iris_b` ayant les quatre champs `longueur_sepale`, `largeur_sepale`, `longueur_petale`, `largeur_petale` comme ceux présents dans `table_iris`\n",
    "\n",
    "- renvoie la distance **arrondie à trois décimales** entre ces deux iris en prenant en compte les valeurs de ces quatre champs.\n",
    " \n",
    "Deux assertions qui doivent être vérifiées par votre fonction sont données ci-dessous.\n",
    " \n",
    "**Rappel :**     \n",
    "    \n",
    "- On utilisera `math.sqrt` du module `math` pour calculer la racine carrée et `**` pour mettre au carré.\n",
    "\n",
    "- On utilisera `round(x, 3)` pour arrondir un nombre `x` en ne gardant que trois décimales."
   ]
  },
  {
   "cell_type": "code",
   "execution_count": null,
   "metadata": {},
   "outputs": [],
   "source": [
    "import math\n",
    "\n",
    "def calculer_distance(iris_a, iris_b):\n",
    "    resultat = 0\n",
    "    cles = ['longueur_sepale', 'largeur_sepale', 'longueur_petale', 'largeur_petale']\n",
    "    # à compléter"
   ]
  },
  {
   "cell_type": "code",
   "execution_count": null,
   "metadata": {},
   "outputs": [],
   "source": [
    "iris8 = table_iris[7]\n",
    "iris18 = table_iris[17]\n",
    "\n",
    "iris_inconnu = {'longueur_sepale':5.5,\n",
    "                'largeur_sepale':3.3,\n",
    "                'longueur_petale':1.1,\n",
    "                'largeur_petale':0.2}\n",
    "\n",
    "assert(calculer_distance(iris8, iris_inconnu) == 0.648)\n",
    "assert(calculer_distance(iris18, iris_inconnu) == 0.548)"
   ]
  },
  {
   "cell_type": "markdown",
   "metadata": {},
   "source": [
    "<div class = \"alert alert-info\">\n",
    "\n",
    "**Question :**\n",
    "\n",
    "Programmer ci-dessous le code d'une fonction `table_distances` qui : \n",
    "\n",
    "- prend en paramètre :\n",
    "\n",
    "    - une table `table` (comme `table_iris`)  contenant des dictionnaires représentant des iris\n",
    "    - un dictionnaire `iris_inconnu` représentant un iris inconnu \n",
    "\n",
    "- renvoie une liste de dictionnaire contenant un champ `distance` (dont la valeur est la distance entre l'enregistrement et `iris_inconnu` arrondie à 3 décimales) et un champ `espece`.\n",
    "\n",
    "Deux assertions qui doivent être vérifiées par votre fonction sont données ci-dessous."
   ]
  },
  {
   "cell_type": "code",
   "execution_count": null,
   "metadata": {},
   "outputs": [],
   "source": [
    "def table_distances(table, iris_inconnu):\n",
    "    table_res = []\n",
    "    # à compléter\n",
    "    return table_res"
   ]
  },
  {
   "cell_type": "code",
   "execution_count": null,
   "metadata": {},
   "outputs": [],
   "source": [
    "table_travail = table_distances(table_iris, iris_inconnu)\n",
    "\n",
    "assert( table_travail[7]['distance'] == 0.648 )\n",
    "assert( table_travail[17]['distance'] == 0.548 )"
   ]
  },
  {
   "cell_type": "markdown",
   "metadata": {},
   "source": [
    "<div class = \"alert alert-info\">\n",
    "\n",
    "**Question :**\n",
    "\n",
    "Programmer ci-dessous le code d'une fonction `trier_puis_extraire` qui :  \n",
    "\n",
    "- prend en paramètre :  \n",
    "\n",
    "    - une table `table` (comme `table_travail`) \n",
    "    \n",
    "    - un nombre entier `k`\n",
    "\n",
    "- trie la table selon la distance croissante ; on utilisera la méthode .sort() avec une fonction lambda comme clé de tri.\n",
    "\n",
    "- renvoie la liste des étiquettes (c'est à dire la liste des valeurs du champ `espece`) des `k` premiers iris de la table triée\n",
    "\n",
    "Une assertion qui doit être vérifiée par votre fonction est donnée ci-dessous.\n",
    "</div>"
   ]
  },
  {
   "cell_type": "code",
   "execution_count": null,
   "metadata": {},
   "outputs": [],
   "source": [
    "def trier_puis_extraire(table, k):\n",
    "    # à compléter"
   ]
  },
  {
   "cell_type": "code",
   "execution_count": null,
   "metadata": {},
   "outputs": [],
   "source": [
    "iris_inconnu = {'longueur_sepale': 6.5,\n",
    "                'largeur_sepale': 2.8,\n",
    "                'longueur_petale': 5.0,\n",
    "                'largeur_petale': 1.5}\n",
    "\n",
    "table_travail = completer_avec_distance(table_iris, iris_inconnu)\n",
    "liste_k_etiquettes = trier_puis_extraire(table_travail, 5)\n",
    "assert(liste_k_etiquettes ==  ['Iris-virginica','Iris-versicolor','Iris-versicolor',\n",
    "                                'Iris-versicolor','Iris-virginica'])\n",
    "\n",
    "table_travail = completer_avec_distance(table_iris, iris_inconnu)\n",
    "liste_k_etiquettes = trier_puis_extraire(table_travail, 1)\n",
    "assert( liste_k_etiquettes ==  ['Iris-virginica'])"
   ]
  },
  {
   "cell_type": "markdown",
   "metadata": {},
   "source": [
    "<div class = \"alert alert-info\">  \n",
    "\n",
    "**Question :**  \n",
    "    \n",
    "Grâce au tri, la fonction `trier_puis_extraire` est assez concise à programmer. En revanche elle pourrait présenter un inconvénient majeur dans le cas d'un jeu de données important. De quel inconvénient majeur s'agit-il?\n",
    "</div>\n",
    "<div class = \"alert alert-info\">\n",
    "\n",
    "**Question :**  \n",
    "    \n",
    "Pour obtenir *l'élément le plus commun présent dans une liste* écrivons une fonction `extraire_element_majoritaire`.\n",
    " \n",
    "Pour cela :\n",
    "\n",
    "- on commence par créer un dictionnaire dont les clés sont les éléments de la liste et les valeurs le nombre d'occurence (nous l'avons déjà fait).\n",
    "- on crée une liste de couples (clé, valeur) à partir du dictionnaire.\n",
    "- on trie cette liste selon les valeurs (par ordre croissant ou décroissant, au choix).\n",
    "- on renvoit le bon élément de cette liste.\n",
    "</div>"
   ]
  },
  {
   "cell_type": "code",
   "execution_count": null,
   "metadata": {},
   "outputs": [],
   "source": [
    "def extraire_element_majoritaire(liste):\n",
    "    # à compléter"
   ]
  },
  {
   "cell_type": "code",
   "execution_count": null,
   "metadata": {},
   "outputs": [],
   "source": [
    "assert(extraire_element_majoritaire(['bip', 'bip', 'blip', 'blip', 'bip']) == 'bip')\n",
    "assert(extraire_element_majoritaire([1, 2, 3, 4, 5, 2, 3, 4, 5, 3, 4, 5, 4, 5, 5]) == 5)"
   ]
  },
  {
   "cell_type": "markdown",
   "metadata": {},
   "source": [
    "<div class = \"alert alert-info\">\n",
    "\n",
    "**Question :**  \n",
    "    \n",
    "Intégrez tout ce qui précède dans une unique fonction `algo_k_plus_proches_voisins` qui prend en paramètres :  \n",
    "    \n",
    "- un nombre entier `k`,  \n",
    "    \n",
    "- une table d'iris étiquetés `table_iris`,  \n",
    "\n",
    "- et un iris non étiqueté `iris_inconnu` \n",
    "    \n",
    "et renvoie l'étiquette de `iris_inconnu` obtenue selon l'algorithme des k plus proches voisins."
   ]
  },
  {
   "cell_type": "code",
   "execution_count": null,
   "metadata": {},
   "outputs": [],
   "source": [
    "def algo_k_plus_proches_voisins(k, table_iris, iris_inconnu):\n",
    "    # à compléter"
   ]
  },
  {
   "cell_type": "code",
   "execution_count": null,
   "metadata": {},
   "outputs": [],
   "source": [
    "table_iris = charger_fichier_entete( './datas/iris.csv' )\n",
    "\n",
    "iris_inconnu = {'longueur_sepale': 6.5,\n",
    "                'largeur_sepale': 2.8,\n",
    "                'longueur_petale': 5.0,\n",
    "                'largeur_petale': 1.5}\n",
    "\n",
    "assert(algo_k_plus_proches_voisins(5, table_iris, iris_inconnu) == 'Iris-versicolor')\n",
    "assert(algo_k_plus_proches_voisins(1, table_iris, iris_inconnu) == 'Iris-virginica')"
   ]
  }
 ],
 "metadata": {
  "kernelspec": {
   "display_name": "Python 3",
   "language": "python",
   "name": "python3"
  },
  "language_info": {
   "codemirror_mode": {
    "name": "ipython",
    "version": 3
   },
   "file_extension": ".py",
   "mimetype": "text/x-python",
   "name": "python",
   "nbconvert_exporter": "python",
   "pygments_lexer": "ipython3",
   "version": "3.8.5"
  }
 },
 "nbformat": 4,
 "nbformat_minor": 2
}
