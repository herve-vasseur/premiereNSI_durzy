{
 "cells": [
  {
   "cell_type": "markdown",
   "metadata": {},
   "source": [
    "# Bases de l'algorithmique et de la programmation\n",
    "\n",
    "### Section 0 : Utilisation de jupyter - Préambule\n",
    "Jupyter est un environnement qui intègre un interpréteur python avec des zones de texte.<br>\n",
    "<span style='color:blue'>Ceci est une zone de texte.</span><br>\n",
    "Il faut lire -soigneusement- ce qu'elle contient, qu'il s'agisse d'explications, de questions auxquels il faut répondre ou d'instructions à suivre.<br>\n",
    "Ci-dessous se trouve <span style='color:blue'>une zone de saisie.</span><br>\n",
    "C'est là que vous pouvez entrer les réponses aux questions.\n",
    "Cela vous semble-t-il clair ?"
   ]
  },
  {
   "cell_type": "raw",
   "metadata": {},
   "source": [
    "répondez ici :\n",
    "oui"
   ]
  },
  {
   "cell_type": "markdown",
   "metadata": {},
   "source": [
    "enfin, il y a <span style='color:blue'>les zones de code</span>, qui permettent de faire du Python et de tester le fonctionnement\n",
    "\n",
    "- en cliquant sur le bouton *Exécuter*\n",
    "- ou au clavier sur _Ctrl + Entrée_\n",
    "\n",
    "**3. Digression sur les calculs**"
   ]
  },
  {
   "cell_type": "code",
   "execution_count": null,
   "metadata": {},
   "outputs": [],
   "source": [
    "# Ceci est une cellule de code Python\n",
    "# les lignes précédées d'un # sont des commentaires\n",
    "\n",
    "# Affectation\n",
    "\n",
    "a = 2\n",
    "b, c = 5, -9\n",
    "\n",
    "# Somme :\n",
    "d = a + b\n",
    "print(d) # pour voir le résultat\n",
    "\n",
    "b += 1\n",
    "print(b)\n",
    "\n",
    "# Différence\n",
    "e = d - a\n",
    "print(e)\n",
    "\n",
    "# Produit\n",
    "e = 5 * 3\n",
    "print(e)\n",
    "\n",
    "# Division\n",
    "print(5/3)\n",
    "\n",
    "# Puissance\n",
    "print(5**3)\n",
    "\n",
    "# Division euclidienne\n",
    "quotient = 27 // 6\n",
    "reste = 27 % 6\n",
    "print(quotient, reste)"
   ]
  },
  {
   "cell_type": "markdown",
   "metadata": {},
   "source": [
    "<div class =\"alert alert-danger\">\n",
    "\n",
    "### Exercice 1\n",
    "Écrire un programme qui\n",
    "- demande la saisie de ceux variables (numérique ou pas)\n",
    "- échange le contenu des deux variables\n",
    "- affiche les deux variables modifiées\n",
    "</div>"
   ]
  },
  {
   "cell_type": "code",
   "execution_count": null,
   "metadata": {},
   "outputs": [],
   "source": []
  },
  {
   "cell_type": "markdown",
   "metadata": {},
   "source": [
    "<div class =\"alert alert-danger\">\n",
    "    \n",
    "### Exercice 2\n",
    "1. Écrire un programme qui\n",
    "    - demande la saisie d'une variable numérique\n",
    "    - indique si elle est plus grande ou plus petit que 100 et en même temps si elle est paire ou impaire.\n",
    "2. Tester avec $a=135$, puis avec $a=76$.\n",
    "</div>"
   ]
  },
  {
   "cell_type": "code",
   "execution_count": null,
   "metadata": {},
   "outputs": [],
   "source": []
  },
  {
   "cell_type": "markdown",
   "metadata": {},
   "source": [
    "<div class =\"alert alert-danger\">\n",
    "\n",
    "### Exercice 3\n",
    "Écrire le programme qui affiche la table de multiplication par 7.\n",
    "</div>"
   ]
  },
  {
   "cell_type": "code",
   "execution_count": null,
   "metadata": {},
   "outputs": [],
   "source": []
  },
  {
   "cell_type": "markdown",
   "metadata": {},
   "source": [
    "<div class =\"alert alert-danger\">\n",
    "\n",
    "### Exercice 4\n",
    "Écrire le programme pour calculer la somme des 500 premiers nombres entiers (en partant de 1).\n",
    "</div>"
   ]
  },
  {
   "cell_type": "code",
   "execution_count": null,
   "metadata": {},
   "outputs": [],
   "source": []
  },
  {
   "cell_type": "markdown",
   "metadata": {},
   "source": [
    "<div class =\"alert alert-danger\">\n",
    "\n",
    "### Exercice 5\n",
    "Écrire l'algorithme qui affiche la table de multiplication par 7.\n",
    "</div>"
   ]
  },
  {
   "cell_type": "code",
   "execution_count": null,
   "metadata": {},
   "outputs": [],
   "source": []
  },
  {
   "cell_type": "markdown",
   "metadata": {},
   "source": [
    "<div class =\"alert alert-danger\">\n",
    "\n",
    "### Exercice 6\n",
    "Écrire le programme pour calculer la somme des 500 premiers nombres entiers (en partant de 1).\n",
    "</div>"
   ]
  },
  {
   "cell_type": "code",
   "execution_count": null,
   "metadata": {},
   "outputs": [],
   "source": []
  },
  {
   "cell_type": "markdown",
   "metadata": {},
   "source": [
    "<div class =\"alert alert-danger\">\n",
    "\n",
    "### Exercice 7\n",
    "\n",
    "On désire afficher les carrés et les cubes de 25 premiers entiers non nuls.\n",
    "1. Écrire un programme avec une boucle tant que.\n",
    "2. Écrire un programme avec une boucle pour.\n",
    "</div>"
   ]
  },
  {
   "cell_type": "code",
   "execution_count": null,
   "metadata": {},
   "outputs": [],
   "source": []
  },
  {
   "cell_type": "markdown",
   "metadata": {},
   "source": [
    "<div class =\"alert alert-danger\">\n",
    "\n",
    "### Exercice 8\n",
    "\n",
    "On désire afficher parmi les 50 premiers multiples non nuls de 13, ceux qui sont divisibles par 7.\n",
    "1. Écrire un programme avec une boucle tant que.\n",
    "2. Écrire un programme avec une boucle pour.\n",
    "</div>"
   ]
  },
  {
   "cell_type": "code",
   "execution_count": null,
   "metadata": {},
   "outputs": [],
   "source": []
  },
  {
   "cell_type": "markdown",
   "metadata": {},
   "source": [
    "<div class =\"alert alert-danger\">\n",
    "\n",
    "### Exercice 9\n",
    "Écrire l'algorithme de la fonction qui nous affiche la table de multiplication d'un entier $n$.\n",
    "</div>"
   ]
  },
  {
   "cell_type": "code",
   "execution_count": null,
   "metadata": {},
   "outputs": [],
   "source": [
    "def table_multiplication(n):\n",
    "    ''' Fonction qui affiche la table de multiplication par n de l'école primaire\n",
    "        n est un entier (compris en 0 et 10)\n",
    "        Sortie vide (la fonction réalise un affichage ---> on parle de procédure dans d'autres langages)\n",
    "    '''\n",
    "    # À compléter\n",
    "    return None\n",
    "\n",
    "# Instruction pour tester notre fonction\n",
    "table_multiplication(5)"
   ]
  },
  {
   "cell_type": "markdown",
   "metadata": {},
   "source": [
    "<div class =\"alert alert-danger\">\n",
    "\n",
    "### Exercice 10.\n",
    "\n",
    "$n$ étant un entier naturel, on définit $n!$ (factoriel de $n$) comme étant le produit de tous les entiers entre 1 et $n$.<br>\n",
    "Par convention $0!=1$.<br>\n",
    "1. Écrire le programme de calcul de $n!$ dans une fonction.\n",
    "2. Vérifier le bon fonctionnement de cette fonction avec les tests suivants :\n",
    "    \n",
    "        assert factoriel(0)==1, \"erreur pour le cas particulier\"\n",
    "        assert factoriel(1)==1, \"erreur à l'initialisation de la fonction\"\n",
    "        assert factoriel(4)==24, \"erreur dans les calculs\"\n",
    "</div>"
   ]
  },
  {
   "cell_type": "code",
   "execution_count": null,
   "metadata": {},
   "outputs": [],
   "source": [
    "def factoriel(n):\n",
    "    ''' Fonction qui calcule n!\n",
    "        n est un entier positif\n",
    "        Renvoie le résultat du calcul\n",
    "    '''\n",
    "    # À compléter\n",
    "    return \n",
    "\n",
    "# Instructions de tests\n",
    "assert factoriel(0)==1, \"erreur pour le cas particulier\"\n",
    "assert factoriel(1)==1, \"erreur à l'initialisation de la fonction\"\n",
    "assert factoriel(4)==24, \"erreur dans les calculs\""
   ]
  },
  {
   "cell_type": "markdown",
   "metadata": {},
   "source": [
    "<div class =\"alert alert-danger\">\n",
    "\n",
    "### Exercice 11\n",
    "\n",
    "En partant de l'entier naturel $p$, on définit une suite de nombres entiers de la manière suivante :\n",
    "* $u_0 = p$\n",
    "* si $u_n$ est pair, alors $u_{n+1}=u_n/2$\n",
    "* sinon, $u_{n+1}=3\\times u_n +1$\n",
    "où $u_n$ désigne le $n^{ème}$ nombre calculé de la suite.<br>\n",
    "\n",
    "La fonction doit renvoyer le premier $n$ tel que $u_n=1$.\n",
    "\n",
    "1. Écrire le programme de calcul de syracuse(n).\n",
    "2. Vérifier le bon fonctionnement de cette fonction avec les tests suivants :\n",
    "\n",
    "        assert syracuse(1)==0, \"erreur pour le cas particulier\"\n",
    "        assert syracuse(16)==4, \"erreur dans les calculs avec des nombres pairs\"\n",
    "        assert syracuse(12)==9, \"erreur dans les calculs avec des nombres impairs\"\n",
    "    \n",
    "</div>"
   ]
  },
  {
   "cell_type": "code",
   "execution_count": null,
   "metadata": {},
   "outputs": [],
   "source": [
    "def syracuse(p):\n",
    "    ''' Fonction qui détermine au bout de combien d'étapes de calcul on arrive à 1\n",
    "        p est un entier positif\n",
    "        Renvoie le nombre d'étapes\n",
    "    '''\n",
    "    # À compléter\n",
    "    return \n",
    "\n",
    "# Instructions de tests\n",
    "assert syracuse(1)==0, \"erreur pour le cas particulier\"\n",
    "assert syracuse(16)==4, \"erreur dans les calculs avec des nombres pairs\"\n",
    "assert syracuse(12)==9, \"erreur dans les calculs avec des nombres impairs\""
   ]
  },
  {
   "cell_type": "markdown",
   "metadata": {},
   "source": [
    "<div class =\"alert alert-danger\">\n",
    "\n",
    "### Exercice 12\n",
    "\n",
    "Un entier naturel $p$ est un nombre premier si les seuls diviseurs qu'il possède sont $1$ et lui-même.\n",
    "1. Écrire une fonction qui détermine si $p$ est premier et renvoie vraie (**True**) si oui et faux (__False__) sinon.\n",
    "2. Vérifier le bon fonctionnement de cette fonction avec les tests suivants :\n",
    "    \n",
    "        assert premier(5)==True, \"erreur pour les nombres premiers\"\n",
    "        assert premier(15)==False, \"erreur pour les nombres non premiers\"\n",
    "    \n",
    "</div>"
   ]
  },
  {
   "cell_type": "code",
   "execution_count": null,
   "metadata": {},
   "outputs": [],
   "source": []
  },
  {
   "cell_type": "markdown",
   "metadata": {},
   "source": [
    "<div class =\"alert alert-danger\">\n",
    "\n",
    "### Exercice 13\n",
    "Effectuer les divisions successives de $m$ par $n$ c'est diviser à chaque étape le quotient\n",
    "obtenu à l'étape précédente jusqu'à obtenir $0$.\n",
    "1. Écrire un programme qui affiche les restes des divisions successives.\n",
    "2. Tester pour $m = 14$ et $n = 2$.\n",
    "</div>"
   ]
  },
  {
   "cell_type": "code",
   "execution_count": null,
   "metadata": {},
   "outputs": [],
   "source": []
  },
  {
   "cell_type": "markdown",
   "metadata": {},
   "source": [
    "<div class =\"alert alert-danger\">\n",
    "\n",
    "### Exercice 14\n",
    "$m$ et $n$ étant deux entiers naturels, on appelle pgcd de $m$ et $n$ le plus grand diviseur commun à $m$ et $n$.\n",
    "1. Écrire un programme qui détermine le pgcd de $m$ et $n$.\n",
    "2. Vérifier le bon fonctionnement de cette fonction avec les tests suivants :\n",
    "\n",
    "        assert pgcd(6,1)==1, \"erreur avec cas particulier n=1\"\n",
    "        assert pgcd(5,0)==5, \"erreur avec cas particulier n=0\"\n",
    "        assert pgcd(24,4)==4, \"erreur pour cas particulier m multiple de n\"\n",
    "        assert pgcd(35,28)==7, \"erreur cas général\"\n",
    "</div>"
   ]
  },
  {
   "cell_type": "code",
   "execution_count": null,
   "metadata": {},
   "outputs": [],
   "source": []
  }
 ],
 "metadata": {
  "kernelspec": {
   "display_name": "Python 3",
   "language": "python",
   "name": "python3"
  },
  "language_info": {
   "codemirror_mode": {
    "name": "ipython",
    "version": 3
   },
   "file_extension": ".py",
   "mimetype": "text/x-python",
   "name": "python",
   "nbconvert_exporter": "python",
   "pygments_lexer": "ipython3",
   "version": "3.6.9"
  }
 },
 "nbformat": 4,
 "nbformat_minor": 2
}
