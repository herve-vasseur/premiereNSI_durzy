{
 "cells": [
  {
   "cell_type": "markdown",
   "metadata": {},
   "source": [
    "# Enquête policière\n",
    "\n",
    "Un crime a été commis dans un entreprise, et le coupable se trouve peut-être parmi les employés.<br/>\n",
    "Un groupe d'enquêteurs de la police a récolté un certain nombre d'indices.<br/>\n",
    "Votre objectif est de recouper ces indices, à partir des renseignements fournis, de manière à réduire la liste des suspects.\n",
    "\n",
    "## Observations, manipulations\n",
    "\n",
    "La liste des employés, avec tous les renseignements connus, est dans le fichier **liste_employes.json**.<br/>\n",
    "Le format json est un format courant et de plus en plus répandu de sauvegarde de données, en particulier sur le web.<br/>\n",
    "Les données y sont stockées sous forme d'un tableau de dictionnaires.\n",
    "\n",
    "Récupérons ces données :"
   ]
  },
  {
   "cell_type": "code",
   "execution_count": null,
   "metadata": {},
   "outputs": [],
   "source": [
    "import json\n",
    "\n",
    "def charger_donnees(nom_fichier):\n",
    "    \"\"\" Permet de lire le contenu d'un fichier json\n",
    "        nom_fichier une chaine de caractères contenant le nom du fichier\n",
    "        renvoie le contenu du fichier json sous forme d'un tableau de dictionnaires\n",
    "    \"\"\"\n",
    "    with open(nom_fichier) as data:\n",
    "        data_dict = json.load(data)\n",
    "    return data_dict\n",
    "\n",
    "employes = charger_donnees(\"liste_employes.json\")"
   ]
  },
  {
   "cell_type": "markdown",
   "metadata": {},
   "source": [
    "Vérifions qu'on a bien récupéré des données."
   ]
  },
  {
   "cell_type": "code",
   "execution_count": null,
   "metadata": {},
   "outputs": [],
   "source": [
    "print(len(employes))\n",
    "\n",
    "employes[0]"
   ]
  },
  {
   "cell_type": "markdown",
   "metadata": {},
   "source": [
    "Combien l'entreprise a-t-elle d'employés ?<br/>\n",
    "Quelles sont les renseignement dont on dispose sur un employé ? (clés du dictionnaire) ; taper ci-dessous l'instruction permettant d'avoir la liste des clés."
   ]
  },
  {
   "cell_type": "code",
   "execution_count": null,
   "metadata": {},
   "outputs": [],
   "source": [
    "# Instruction permettant d'avoir la liste des clés\n",
    "liste_cles = list(employes[0].keys())\n",
    "\n",
    "# affichage\n",
    "liste_cles"
   ]
  },
  {
   "cell_type": "markdown",
   "metadata": {},
   "source": [
    "Que fait la ligne de code suivante ?"
   ]
  },
  {
   "cell_type": "code",
   "execution_count": null,
   "metadata": {},
   "outputs": [],
   "source": [
    "employes[0]['yeux']"
   ]
  },
  {
   "cell_type": "markdown",
   "metadata": {},
   "source": [
    "Que fait la ligne de code suivante ?"
   ]
  },
  {
   "cell_type": "code",
   "execution_count": null,
   "metadata": {},
   "outputs": [],
   "source": [
    "suspects = [x['nom'] for x in employes]"
   ]
  },
  {
   "cell_type": "markdown",
   "metadata": {},
   "source": [
    "Comment obtenir un tableau contenant les couples (nom, âge) des employés ?"
   ]
  },
  {
   "cell_type": "code",
   "execution_count": null,
   "metadata": {},
   "outputs": [],
   "source": [
    "# instruction pour obtenir un tableau contenant les couples (nom, âge) des employés\n",
    "tableau ="
   ]
  },
  {
   "cell_type": "markdown",
   "metadata": {},
   "source": [
    "Comment obtenir un tableau contenant les employés aux yeux bleus ?"
   ]
  },
  {
   "cell_type": "code",
   "execution_count": null,
   "metadata": {},
   "outputs": [],
   "source": [
    "# instruction pour obtenir un tableau contenant les employés aux yeux bleus\n",
    "yeux_bleus ="
   ]
  },
  {
   "cell_type": "markdown",
   "metadata": {},
   "source": [
    "Comment obtenir un tableau contenant les employés de plus de 1,95 m ?"
   ]
  },
  {
   "cell_type": "code",
   "execution_count": null,
   "metadata": {},
   "outputs": [],
   "source": [
    "# instruction pour obtenir un tableau contenant les employés de plus de 1,95 m\n",
    "grand ="
   ]
  },
  {
   "cell_type": "markdown",
   "metadata": {},
   "source": [
    "## Menons l'enquête\n",
    "\n",
    "À partir de la liste initiale des employés et en utilisant les indices qui suivent, vous devez réduire progressivement des suspects à quelques personnes seulement.\n",
    "\n",
    "#### Indice 1 : On a retrouvé sur les lieux du crime un cheveu blond."
   ]
  },
  {
   "cell_type": "code",
   "execution_count": null,
   "metadata": {},
   "outputs": [],
   "source": [
    "suspect_apres_indice1 = "
   ]
  },
  {
   "cell_type": "markdown",
   "metadata": {},
   "source": [
    "#### Indice 2 : On a trouvé du sang qu'une analyse rapide permet de classer dans le groupe A et d'attribuer à une femme."
   ]
  },
  {
   "cell_type": "code",
   "execution_count": null,
   "metadata": {},
   "outputs": [],
   "source": [
    "suspect_apres_indice2 ="
   ]
  },
  {
   "cell_type": "markdown",
   "metadata": {},
   "source": [
    "#### Indice 3 : On a trouvé des empreintes digitales de type arc et boucle."
   ]
  },
  {
   "cell_type": "code",
   "execution_count": null,
   "metadata": {},
   "outputs": [],
   "source": [
    "suspect_apres_indice3 = "
   ]
  },
  {
   "cell_type": "markdown",
   "metadata": {},
   "source": [
    "#### Indice 4 : On a trouvé des empreintes de pas correspondant à une pointure supérieure ou égale à du 42."
   ]
  },
  {
   "cell_type": "code",
   "execution_count": null,
   "metadata": {},
   "outputs": [],
   "source": [
    "suspect_apres_indice4 = "
   ]
  },
  {
   "cell_type": "markdown",
   "metadata": {},
   "source": [
    "#### Après ce dernier indice, combien reste-t-il de suspects ? En donner la liste"
   ]
  },
  {
   "cell_type": "code",
   "execution_count": null,
   "metadata": {},
   "outputs": [],
   "source": []
  }
 ],
 "metadata": {
  "kernelspec": {
   "display_name": "Python 3",
   "language": "python",
   "name": "python3"
  },
  "language_info": {
   "codemirror_mode": {
    "name": "ipython",
    "version": 3
   },
   "file_extension": ".py",
   "mimetype": "text/x-python",
   "name": "python",
   "nbconvert_exporter": "python",
   "pygments_lexer": "ipython3",
   "version": "3.8.5"
  }
 },
 "nbformat": 4,
 "nbformat_minor": 4
}
