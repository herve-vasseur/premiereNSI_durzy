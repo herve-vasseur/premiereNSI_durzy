{
 "cells": [
  {
   "cell_type": "markdown",
   "metadata": {},
   "source": [
    "## Activité sur le tri et la recherche\n",
    "\n",
    "<div class = \"alert alert-info\">\n",
    "\n",
    "Une association loi 1901 dispose d’un fichier de ses membres faisant apparaître les renseignements suivants :\n",
    "    \n",
    "- Nom,\n",
    "- Prénom,\n",
    "- Numéro de rue,\n",
    "- Rue,\n",
    "- Complément d'adresse,\n",
    "- Code postal,\n",
    "- Ville,\n",
    "- Mail personnel,\n",
    "- Mail professionnel,\n",
    "- Téléphone personnel,\n",
    "- Téléphone portable,\n",
    "- Cotisation,\n",
    "- Date d’adhésion,\n",
    "- Statut.\n",
    "\n",
    "Elle souhaite mettre en œuvre un certain nombre de routines pour pouvoir obtenir quelques informations sur ce fichier.\n",
    "Vous êtes chargé de réaliser le programme correspondant.\n",
    "Vous disposez du fichier **adherents.csv**, qui contient un extrait du registre des adhérents de l'association.\n",
    "</div>\n",
    "\n",
    "Il faudra exécuter les cellules **Python** au fur et à mesure de la progression, après avoir éventuellement complété le code.\n",
    "Des cellules de contrôle **tests** sont incluses.\n",
    "\n",
    "### Partie 1 : travail avec un tableau de tableaux\n",
    "\n",
    "__Exercice 1__\n",
    "\n",
    "On commence par importer le module csv."
   ]
  },
  {
   "cell_type": "code",
   "execution_count": null,
   "metadata": {},
   "outputs": [],
   "source": [
    "import csv"
   ]
  },
  {
   "cell_type": "markdown",
   "metadata": {},
   "source": [
    "Compléter ci-dessous la fonction import_csv(fichier) permettant de charger le fichier csv sous forme d’un tableau.\n",
    "\n",
    "La ligne des descripteurs du fichier csv constitue la ligne 0 du tableau (table[0]). Ces descripteurs sont :\n",
    "\n",
    "    ['nom', 'prénom', 'numéro rue', 'rue', 'complément', 'code postal', 'ville', 'mail personnel', 'mail professionnel', 'téléphone personnel', 'téléphone portable', 'cotisation', 'date d’adhésion', 'statut']\n",
    "\n",
    "On transformera :\n",
    "- les données numériques 'numéro rue' et 'code postal' en entiers ;\n",
    "- la donnée 'cotisation' en booléen."
   ]
  },
  {
   "cell_type": "code",
   "execution_count": null,
   "metadata": {},
   "outputs": [],
   "source": [
    "def import_csv(fichier):\n",
    "    \"\"\" Fonction qui ouvre le fichier csv dont le nom est fichier\n",
    "        renvoie une table bi-dimensionnelle\n",
    "        table[0] contient les titres des colonnes\n",
    "        Les données numériques ('numéro rue' et 'code postal') doivent être des entiers;\n",
    "        La cotisation (payée ou pas payée) doit être un booléen;\n",
    "        Les numéros de téléphone sont complétés en chaîne de 10 caractères.\n",
    "    \"\"\"\n",
    "    with open(fichier,\"r\", newline=\"\", encoding=\"utf-8\") as adherents:\n",
    "        table = adherents.read()\n",
    "    table = table.split(\"\\n\")[:-1]\n",
    "    for k in range(len(table)):\n",
    "        table[k] = table[k].split(\",\")\n",
    "        if k>0:\n",
    "            table[k][2] = int(table[k][2]) # on transforme le numéro de rue en entier\n",
    "            table[k][5] = int(table[k][5]) # on transforme le numéro de rue en entier\n",
    "            table[k][11] = table[k][11]==\"oui\"\n",
    "            table[k][9] = \"{:0>10}\".format(table[k][9])\n",
    "            table[k][10] = \"{:0>10}\".format(table[k][10])\n",
    "    return table"
   ]
  },
  {
   "cell_type": "markdown",
   "metadata": {},
   "source": [
    "Contrôler votre fonction à l'aide des tests ci-dessous :"
   ]
  },
  {
   "cell_type": "code",
   "execution_count": null,
   "metadata": {},
   "outputs": [],
   "source": [
    "liste = import_csv(\"adherents.csv\")\n",
    "descripteurs = liste[0]\n",
    "assert liste[1][2]==14, \"Problème de type avec numéro de rue\"\n",
    "assert liste[3][5]==45460, \"Problème de type avec Code postal\"\n",
    "assert liste[15][11], \"Problème de type sur la cotisation\"",
    "assert not liste[5][11], \"Problème de type sur la cotisation\""
   ]
  },
  {
   "cell_type": "markdown",
   "metadata": {},
   "source": [
    "**Exercice 2**\n",
    "\n",
    "On veut pouvoir rechercher les personnes qui ne sont pas à jour de leur cotisation.\n",
    "\n",
    "Compléter la fonction **cotisation_pasajour(donnees)** permettant cette requête.\n",
    "\n",
    "Elle doit renvoyer un tableau des tuples __(nom, prénom)__ des personnes."
   ]
  },
  {
   "cell_type": "code",
   "execution_count": null,
   "metadata": {},
   "outputs": [],
   "source": [
    "def cotisation_pasajour(donnees):\n",
    "    \"\"\" Fonction qui cherche les membres dont la cotisation n'est pas à jour\n",
    "        renvoie une liste des noms et prénoms ces membres sous forme d'un tuple :\n",
    "        [(nom, prenom)].\n",
    "    \"\"\"\n",
    "    reponse = []\n",
    "    for personne in donnees:\n",
    "        pass # A COMPLÉTER\n",
    "    return reponse"
   ]
  },
  {
   "cell_type": "markdown",
   "metadata": {},
   "source": [
    "Tester votre fonction à l'aide des tests ci-dessous :"
   ]
  },
  {
   "cell_type": "code",
   "execution_count": null,
   "metadata": {},
   "outputs": [],
   "source": [
    "cotis_absente = cotisation_pasajour(liste)\n",
    "assert ('FOURNIER', 'Virginie') in cotis_absente, \"Devrait être dans la liste\"\n",
    "assert not ('PAILLART', 'Mélanie') in cotis_absente, \"Ne devrait pas être dans la loste\"\n",
    "assert len(cotis_absente)==7, \"Il en manque\""
   ]
  },
  {
   "cell_type": "markdown",
   "metadata": {},
   "source": [
    "**Exercice 3**\n",
    "\n",
    "On veut obtenir un nouveau fichier CSV où les membres de l’association sont triés par ancienneté.\n",
    "\n",
    "Écrire la fonction **anciennete(donnees)** permettant le tri du fichier en définissant les variables **ancien** et __actuel__ suivant les spécifications données, ainsi que la condition du test de comparaison."
   ]
  },
  {
   "cell_type": "code",
   "execution_count": null,
   "metadata": {},
   "outputs": [],
   "source": [
    "def anciennete(donnees):\n",
    "    \"\"\" Fonction qui tri par sélection le tableau suivant le critère d'ancienneté\n",
    "        ancien et actuel sont les variables qui stockent les dates d'adhésion\n",
    "        de deux membres (i et k dans la liste)\n",
    "        au format [jour, mois, année] \"jour\", \"mois\" et \"année\" sont des entiers.\n",
    "    \"\"\"\n",
    "    nb_adh = len(donnees)\n",
    "    for i in range(1,nb_adh):\n",
    "        position = i\n",
    "        if donnees[i][12]!='':\n",
    "            ancien = list(map(int, donnees[i][12].split('/')))\n",
    "            for k in range(i+1,nb_adh):\n",
    "                if donnees[k][12]!='':\n",
    "                    actuel = list(map(int, donnees[k][12].split('/')))\n",
    "                    if # condition à compléter avec une combinaison complexe :\n",
    "                       # on compare l'année, puis si = le mois, puis si = le jour\n",
    "                        position = k # mémorise l'indice du plus ancien\n",
    "                        ancien = actuel # mémorise la date du plus ancien\n",
    "            donnees[i], donnees[position] = donnees[position],donnees[i]"
   ]
  },
  {
   "cell_type": "markdown",
   "metadata": {},
   "source": [
    "Tester votre fonction à l'aide des tests ci-dessous :"
   ]
  },
  {
   "cell_type": "code",
   "execution_count": null,
   "metadata": {},
   "outputs": [],
   "source": [
    "anciennete(liste)\n",
    "assert liste[0]==descripteurs, \"Problème ligne des titres\"\n",
    "assert liste[1][0]=='PAILLART', \"Problème : traitement de l'année\"\n",
    "assert liste[5][0]=='BOUGEOT', \"Problème : traitement du mois\"\n",
    "assert liste[6][0]=='MERCIER' and liste[7][0]=='SICARD', \"Problème : traitement du jour\""
   ]
  },
  {
   "cell_type": "markdown",
   "metadata": {},
   "source": [
    "**Exercice 4**\n",
    "\n",
    "On souhaite pouvoir trier le tableau par liste alphabétique de nom et prénom.\n",
    "\n",
    "Compléter la fonction **alphabetique(donnees)** permettant le tri par insertion du fichier."
   ]
  },
  {
   "cell_type": "code",
   "execution_count": null,
   "metadata": {},
   "outputs": [],
   "source": [
    "def alphabetique(donnees):\n",
    "    \"\"\" Fonction qui tri par insertion le tableau suivant le critère nom, prénom\n",
    "        Attention ! La ligne de titre n'est pas à trier.\n",
    "    \"\"\"\n",
    "    for i in range(): # A COMPLÉTER\n",
    "        insere = donnees[i]\n",
    "        identifie = (insere[0], insere[1])\n",
    "        k = i\n",
    "        while #compléter\n",
    "            donnees[k] = donnees[k-1]\n",
    "            k = k - 1\n",
    "        donnees[k] = # compléter"
   ]
  },
  {
   "cell_type": "markdown",
   "metadata": {},
   "source": [
    "Tester votre fonction à l'aide des tests ci-dessous et en allant contrôler le fichier sauvegardé :"
   ]
  },
  {
   "cell_type": "code",
   "execution_count": null,
   "metadata": {},
   "outputs": [],
   "source": [
    "alphabetique(liste)\n",
    "export_csv(\"alphabetique.csv\", liste)\n",
    "assert liste[0]==descripteurs, \"Problème ligne des titres\"\n",
    "assert liste[1][0]=='ASSELIN', \"Problème : critère nom\"\n",
    "assert liste[22][0]=='PINOTEAU' and liste[22][1]=='Andrée', \"Problème : critère prénom\""
   ]
  },
  {
   "cell_type": "markdown",
   "metadata": {},
   "source": [
    "### Partie 2\n",
    "\n",
    "On souhaite maintenant que les données de chaque membre de l’association soit un dictionnaire avec les clés :\n",
    "\n",
    "    {\"nom\" : ,\n",
    "     \"prénom\" : ,\n",
    "     \"adresse\" : {\"numéro rue\" : ,\n",
    "                  \"rue\" : ,\n",
    "                  \"complément\" : ,\n",
    "                  \"code postal\" : ,\n",
    "                  \"ville\" : },\n",
    "     \"mail personnel\" : ,\n",
    "     \"mail professionnel\" : ,\n",
    "     \"téléphone personnel\" : ,\n",
    "     \"téléphone portable\" : ,\n",
    "     \"cotisation\" : ,\n",
    "     \"date d'adhésion\" : ,\n",
    "     \"statut\" : }\n",
    " \n",
    "La liste des adhérents sera alors un tableau de dictionnaires.\n",
    "\n",
    "__Exercice 5__\n",
    "\n",
    "Compléter la fonction **import_dico(fichier)** permettant de charger le fichier CSV sous cette forme."
   ]
  },
  {
   "cell_type": "code",
   "execution_count": null,
   "metadata": {},
   "outputs": [],
   "source": [
    "def import_dico(fichier):\n",
    "    \"\"\" Fonction qui ouvre le fichier csv dont le nom est fichier\n",
    "        renvoie une liste de dictionnaires dont les clés sont\n",
    "        les titres des colonnes du fichier csv.\n",
    "        Les données numériques ('numéro rue' et 'code postal') doivent\n",
    "        être des entiers ;\n",
    "        et la cotisation un booléen (payée = True ou pas payée = False);\n",
    "        Les numéros de téléphone sont complétés en chaîne de 10 caractères.\n",
    "        De plus, les éléments de l'adresse sont regroupés dans un dictionnaire.\n",
    "    \"\"\"\n",
    "    donnees=[]\n",
    "    with open(fichier, \"r\", newline=\"\",encoding=\"utf-8\" ) as adherents:\n",
    "        # création du lecteur csv utilisant la ligne d'entête\n",
    "        # comme clés du dictionnaire des enregistrements.\n",
    "        table=csv.DictReader(adherents,delimiter=\",\")\n",
    "        for element in table:\n",
    "            # Attention les valeurs associées à chaque clé sont des str\n",
    "            # À compléter pour répondre aux spécifications (s'inspirer\n",
    "            # de la première fonction\n",
    "    return donnees"
   ]
  },
  {
   "cell_type": "markdown",
   "metadata": {},
   "source": [
    "Tester votre fonction à l'aide des tests ci-dessous :"
   ]
  },
  {
   "cell_type": "code",
   "execution_count": null,
   "metadata": {},
   "outputs": [],
   "source": [
    "dico = import_dico(\"adherents.csv\")\n",
    "assert \"mail professionnel\" in dico[0].keys()\n",
    "assert dico[0][\"Nom\"]==\"ASSELIN\"\n",
    "assert dico[0]['adresse'][\"Numéro rue\"]==14, \"Problème de type avec numéro de rue\"\n",
    "assert dico[2]['adresse'][\"Code postal\"]==45460, \"Problème de type avec Code postal\"\n",
    "assert dico[5][\"téléphone personnel\"]==\"0225984127\", \"Problème de format téléphone perso sur 10 chiffres\"\n",
    "assert dico[6][\"téléphone portable\"]==\"0689125632\", \"Problème de format téléphone perso sur 10 chiffres\"\n",
    "assert dico[14][\"cotisation\"], \"Problème de type sur la cotisation\"\n",
    "assert len(dico)==35, \"Problème nombre d'adhérents\""
   ]
  },
  {
   "cell_type": "markdown",
   "metadata": {},
   "source": [
    "__Exercice 6__\n",
    "\n",
    "On souhaite pouvoir retrouver l’adresse mail personnelle d’un membre de l'association.\n",
    "\n",
    "Écrire la fonction **adresse_mail(donnees, nom, prenom)** permettant d’effectuer cette requête."
   ]
  },
  {
   "cell_type": "code",
   "execution_count": null,
   "metadata": {},
   "outputs": [],
   "source": [
    "def adresse_mail(donnees, nom, prenom):\n",
    "    \"\"\" Fonction qui cherche les membres dont les nom et prénom sont\n",
    "        ceux fournis en argument\n",
    "        renvoie une liste des adresses mail personnelles des personnes\n",
    "    \"\"\"\n",
    "    # À COMPLÉTER\n",
    "    pass"
   ]
  },
  {
   "cell_type": "markdown",
   "metadata": {},
   "source": [
    "Tester votre fonction à l'aide des tests ci-dessous :"
   ]
  },
  {
   "cell_type": "code",
   "execution_count": null,
   "metadata": {},
   "outputs": [],
   "source": [
    "assert adresse_mail(dico, \"ASSELIN\", \"Francis\") == [\"ass4@gmail.com\"], \"Problème : recherche ?\"\n",
    "assert sorted(adresse_mail(dico, \"VANNIER\", \"Anne\")) == [\"vannier_2@orange.fr\",\"vannier_4@red.fr\"], \"Problème : plusieurs homonymes\""
   ]
  },
  {
   "cell_type": "markdown",
   "metadata": {},
   "source": [
    "__Exercice 7__\n",
    "\n",
    "On veut obtenir un numéro de téléphone, de préférence portable, pour contacter un membre de l'association.\n",
    "\n",
    "Écrire la fonction **telephone(donnees, nom, prenom)** permettant d’effectuer cette requête."
   ]
  },
  {
   "cell_type": "code",
   "execution_count": null,
   "metadata": {},
   "outputs": [],
   "source": [
    "def telephone(donnees, nom, prenom):\n",
    "    \"\"\" Fonction qui cherche les membres dont les nom et prénom\n",
    "        sont fournis en argument.\n",
    "        renvoie un tableau des numéros telephones, portables\n",
    "        si possible, de ces personnes.\n",
    "    \"\"\"\n",
    "    # À COMPLÉTER\n",
    "    pass"
   ]
  },
  {
   "cell_type": "markdown",
   "metadata": {},
   "source": [
    "Tester votre fonction à l'aide des tests ci-dessous :"
   ]
  },
  {
   "cell_type": "code",
   "execution_count": null,
   "metadata": {},
   "outputs": [],
   "source": [
    "assert telephone(dico, \"ASSELIN\", \"Francis\") == [\"0689154763\"], \"Problème : recherche ?\"\n",
    "assert telephone(dico, \"LELAY\", \"Romuald\") == [\"0238963791\"], \"Problème : fixe si pas de portable\"\n",
    "assert sorted(telephone(dico, \"VANNIER\", \"Anne\")) == [\"0203690452\",\"0713791685\"], \\\n",
    "        \"Problème : plusieurs homonymes\""
   ]
  },
  {
   "cell_type": "markdown",
   "metadata": {},
   "source": [
    "**Exercice 8**\n",
    "\n",
    "La responsable souhaite organiser une présentation d’un professionnel dans plusieurs villes. Elle veut savoir combien de personnes seront à contacter pour chaque commune.\n",
    "\n",
    "Écrire la fonction **classement_par_villes(donnees)** permettant d’obtenir une table des différentes villes et du nombre de membres par ville.\n",
    "\n",
    "La table doit être classée par ordre décroissant du nombre de membres, puis par ordre alphabétique de la ville.\n",
    "\n",
    "Pour cela, on pourra utiliser la méthode .sort() avec le critère **key = lambda ville :critère** et éventuellement **reverse**. Il faudra l'utiliser deux fois."
   ]
  },
  {
   "cell_type": "code",
   "execution_count": null,
   "metadata": {},
   "outputs": [],
   "source": [
    "def classement_par_villes(donnees):\n",
    "    \"\"\" Fonction qui crée un tableau de couples\n",
    "        (ville, nombre d'adhérents).\n",
    "        renvoie ce tableau trié\n",
    "        par ordre décroissant du nombre d'adhérents,\n",
    "        puis par ordre alphabétique des villes.\n",
    "        On utilisera pour cela deux fois la fonction prédéfinie\n",
    "        sort(key = lambda ville:critère, reverse=booleen)\n",
    "    \"\"\"\n",
    "    dico_ville = {}\n",
    "    # instruction à écrire pour obtenir un dictionnaire {ville:nombre}\n",
    "    tableau = []\n",
    "    # instruction à écrire pour obtenir le tableau de couples,\n",
    "    # à partir du dictionnaire\n",
    "    tableau.sort() # à compléter avec les critères\n",
    "    tableau.sort() # à compléter avec les critères\n",
    "    return tableau"
   ]
  },
  {
   "cell_type": "markdown",
   "metadata": {},
   "source": [
    "Tester votre fonction à l'aide des tests ci-dessous :"
   ]
  },
  {
   "cell_type": "code",
   "execution_count": null,
   "metadata": {},
   "outputs": [],
   "source": [
    "villes = classement_par_villes(dico)\n",
    "assert(villes[0] == ('Bellegarde',8)), \"Problème : format des données\"\n",
    "assert(villes[2][1] == 6), \"Problème : tri sur le nombre\"\n",
    "assert(villes[4][0] == 'Boisseaux'), \"Problème : tri alphabétique\""
   ]
  }
 ],
 "metadata": {
  "kernelspec": {
   "display_name": "Python 3",
   "language": "python",
   "name": "python3"
  },
  "language_info": {
   "codemirror_mode": {
    "name": "ipython",
    "version": 3
   },
   "file_extension": ".py",
   "mimetype": "text/x-python",
   "name": "python",
   "nbconvert_exporter": "python",
   "pygments_lexer": "ipython3",
   "version": "3.8.5"
  }
 },
 "nbformat": 4,
 "nbformat_minor": 2
}
